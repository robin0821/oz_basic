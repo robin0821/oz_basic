{
 "cells": [
  {
   "cell_type": "code",
   "execution_count": 35,
   "metadata": {},
   "outputs": [],
   "source": [
    "import pandas as pd\n",
    "import xml.etree.ElementTree as ET\n",
    "import csv"
   ]
  },
  {
   "cell_type": "code",
   "execution_count": 36,
   "metadata": {},
   "outputs": [],
   "source": [
    "pd.options.display.max_columns = None"
   ]
  },
  {
   "cell_type": "code",
   "execution_count": 3,
   "metadata": {},
   "outputs": [],
   "source": [
    "filename = './abr/20181205_Public01'"
   ]
  },
  {
   "cell_type": "code",
   "execution_count": 4,
   "metadata": {},
   "outputs": [],
   "source": [
    "file = ET.parse(filename + '.xml')"
   ]
  },
  {
   "cell_type": "code",
   "execution_count": 5,
   "metadata": {},
   "outputs": [],
   "source": [
    "root = file.getroot()"
   ]
  },
  {
   "cell_type": "code",
   "execution_count": 6,
   "metadata": {},
   "outputs": [
    {
     "data": {
      "text/plain": [
       "'Transfer'"
      ]
     },
     "execution_count": 6,
     "metadata": {},
     "output_type": "execute_result"
    }
   ],
   "source": [
    "root.tag"
   ]
  },
  {
   "cell_type": "code",
   "execution_count": 7,
   "metadata": {},
   "outputs": [],
   "source": [
    "abr = root.findall('.//ABR')"
   ]
  },
  {
   "cell_type": "code",
   "execution_count": 8,
   "metadata": {},
   "outputs": [
    {
     "data": {
      "text/plain": [
       "{'recordLastUpdatedDate': '20180216', 'replaced': 'N'}"
      ]
     },
     "execution_count": 8,
     "metadata": {},
     "output_type": "execute_result"
    }
   ],
   "source": [
    "abr[0].attrib"
   ]
  },
  {
   "cell_type": "code",
   "execution_count": 37,
   "metadata": {
    "scrolled": true
   },
   "outputs": [],
   "source": [
    "def parsing_xml(abr):\n",
    "    for i, element in enumerate(abr):\n",
    "        record_list = []\n",
    "        record = {}\n",
    "        # Parse ABN\n",
    "        try:\n",
    "            ABN = abr[i].find('ABN')\n",
    "            try:\n",
    "                record['abn'] = ABN.text\n",
    "            except:\n",
    "                record['abn'] = ''\n",
    "            try:\n",
    "                record['abn_status'] = ABN.attrib['status']\n",
    "            except:\n",
    "                record['abn_status'] = ''\n",
    "            try:\n",
    "                record['abn_status_date'] = ABN.attrib['ABNStatusFromDate']\n",
    "            except:\n",
    "                record['abn_status_date'] = ''\n",
    "        except:\n",
    "            record['abn'] = ''\n",
    "            record['abn_status'] = ''\n",
    "            record['abn_status_date'] = ''\n",
    "\n",
    "        # Parse EntityType\n",
    "        try:\n",
    "            EntityType = abr[i].find('EntityType')\n",
    "            try:\n",
    "                record['entity_type'] = EntityType.find('EntityTypeInd').text\n",
    "            except:\n",
    "                record['entity_type'] = ''\n",
    "            try:\n",
    "                record['entity_type_text'] = EntityType.find('EntityTypeText').text\n",
    "            except:\n",
    "                record['entity_type_text'] = ''\n",
    "        except:\n",
    "            record['entity_type'] = ''\n",
    "            record['entity_type_text'] = ''\n",
    "\n",
    "        # Parse MainEntity\n",
    "        try:\n",
    "            MainEntity = abr[i].find('MainEntity')\n",
    "            try:\n",
    "                record['non_ind_type'] = MainEntity.find('NonIndividualName').attrib['type']\n",
    "            except:\n",
    "                record['non_ind_type'] = ''\n",
    "            try:\n",
    "                record['non_ind_name'] = MainEntity.find('NonIndividualName').find('NonIndividualNameText').text\n",
    "            except:\n",
    "                record['non_ind_name'] = ''\n",
    "            try:\n",
    "                record['state'] = MainEntity.find('BusinessAddress').find('AddressDetails').find('State').text\n",
    "            except:\n",
    "                record['state'] = ''\n",
    "            try:\n",
    "                record['postcode'] = MainEntity.find('BusinessAddress').find('AddressDetails').find('Postcode').text\n",
    "            except:\n",
    "                record['postcode'] = ''          \n",
    "        except:\n",
    "            record['non_ind_type'] = ''\n",
    "            record['non_ind_name'] = ''\n",
    "            record['state'] = ''\n",
    "            record['postcode'] = ''\n",
    "\n",
    "        # Parse LegalEntity\n",
    "        try:\n",
    "            LegalEntity = abr[i].find('LegalEntity')\n",
    "            try:\n",
    "                record['family_name'] = LegalEntity.find('FamilyName').text\n",
    "            except:\n",
    "                record['family_name'] = ''\n",
    "            try:\n",
    "                record['given_name'] = LegalEntity.find('GivenName').text\n",
    "            except:\n",
    "                record['given_name'] = ''\n",
    "            try:\n",
    "                record['ind_state'] = LegalEntity.find('BusinessAddress').find('AddressDetails').find('State').text\n",
    "            except:\n",
    "                record['ind_state'] = ''\n",
    "            try:\n",
    "                record['ind_postcode'] = LegalEntity.find('BusinessAddress').find('AddressDetails').find('Postcode').text\n",
    "            except:\n",
    "                record['ind_postcode'] = ''\n",
    "        except:\n",
    "            record['family_name'] = ''\n",
    "            record['given_name'] = ''\n",
    "            record['ind_state'] = ''\n",
    "            record['ind_postcode'] = ''\n",
    "\n",
    "        # Parse ASICNumber\n",
    "        try:\n",
    "            ASICNumber = abr[i].find('ASICNumber')\n",
    "            try:\n",
    "                record['asic_type'] = ASICNumber.attrib['ASICNumberType']\n",
    "            except:\n",
    "                record['asic_type'] = ''\n",
    "            try:\n",
    "                record['asic_number'] = ASICNumber.text\n",
    "            except:\n",
    "                record['asic_number'] = ''\n",
    "\n",
    "        except:\n",
    "            record['asic_type'] = ''\n",
    "            record['asic_number'] = ''\n",
    "\n",
    "        # Parsing GST\n",
    "        try:\n",
    "            GST = abr[i].find('GST')\n",
    "            try:\n",
    "                record['gst_status'] = GST.attrib['status']\n",
    "            except:\n",
    "                record['gst_status'] = ''\n",
    "            try:\n",
    "                record['gst_status_date'] = GST.attrib['GSTStatusFromDate']\n",
    "            except:\n",
    "                record['gst_status_date'] = ''\n",
    "        except:\n",
    "            record['gst_status'] = ''\n",
    "            record['gst_status_date'] = ''\n",
    "\n",
    "        # Parsing DGR\n",
    "        try:\n",
    "            DGR = abr[i].find('DGR')\n",
    "            try:\n",
    "                record['dgr_status_date'] = DGR.attrib['DGRStatusFromDate']\n",
    "            except:\n",
    "                record['dgr_status_date'] = ''\n",
    "            try:\n",
    "                record['dgr_non_ind_name'] = DGR.find('NonIndividualName').find('NonIndividualNameText').text\n",
    "            except:\n",
    "                record['dgr_non_ind_name'] = ''\n",
    "            try:\n",
    "                record['dgr_type'] = DGR.find('NonIndividualName').attrib['type']\n",
    "            except:\n",
    "                record['dgr_type'] = ''\n",
    "        except:\n",
    "            record['dgr_status_date'] = ''\n",
    "            record['dgr_non_ind_name'] = ''\n",
    "            record['dgr_type'] = ''\n",
    "\n",
    "        # Parsing OtherEntity\n",
    "        try:\n",
    "            OtherEntity = abr[i].find('OtherEntity')\n",
    "            try:\n",
    "                record['other_entity_type'] = OtherEntity.find('NonIndividualName').attrib['type']\n",
    "            except:\n",
    "                record['other_entity_type'] = ''\n",
    "            try:\n",
    "                record['other_entity_name'] = OtherEntity.find('NonIndividualName').find('NonIndividualNameText').text\n",
    "            except:\n",
    "                record['other_entity_name'] = ''\n",
    "        except:\n",
    "            record['other_entity_type'] = ''\n",
    "            record['other_entity_name'] = ''\n",
    "\n",
    "        if i == 0:\n",
    "            write_result(list(record.keys()))\n",
    "            write_result(list(record.values()))\n",
    "        else:\n",
    "            write_result(list(record.values()))\n"
   ]
  },
  {
   "cell_type": "code",
   "execution_count": 33,
   "metadata": {},
   "outputs": [],
   "source": [
    "def write_result(record_list):\n",
    "    csvfile = open(filename + '.csv', 'a', encoding = 'utf-8')\n",
    "    writer = csv.writer(csvfile, dialect = 'excel')\n",
    "    writer.writerow(record_list)\n",
    "#     print(record_list)\n",
    "    csvfile.close()"
   ]
  },
  {
   "cell_type": "code",
   "execution_count": null,
   "metadata": {},
   "outputs": [],
   "source": [
    "parsing_xml(abr)"
   ]
  },
  {
   "cell_type": "code",
   "execution_count": null,
   "metadata": {},
   "outputs": [],
   "source": [
    "for j in range(21):\n",
    "    filename = './abr/20181205_Public' + str(j).zfill(2)\n",
    "    file = ET.parse(filename + '.xml')\n",
    "    root = file.getroot()\n",
    "    abr = root.findall('.//ABR')\n",
    "    parsing_xml(abr)"
   ]
  }
 ],
 "metadata": {
  "kernelspec": {
   "display_name": "Python 3",
   "language": "python",
   "name": "python3"
  },
  "language_info": {
   "codemirror_mode": {
    "name": "ipython",
    "version": 3
   },
   "file_extension": ".py",
   "mimetype": "text/x-python",
   "name": "python",
   "nbconvert_exporter": "python",
   "pygments_lexer": "ipython3",
   "version": "3.7.0"
  }
 },
 "nbformat": 4,
 "nbformat_minor": 2
}
